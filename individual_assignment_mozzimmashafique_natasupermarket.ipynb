{
  "nbformat": 4,
  "nbformat_minor": 0,
  "metadata": {
    "colab": {
      "provenance": [],
      "include_colab_link": true
    },
    "kernelspec": {
      "name": "python3",
      "display_name": "Python 3"
    },
    "language_info": {
      "name": "python"
    }
  },
  "cells": [
    {
      "cell_type": "markdown",
      "metadata": {
        "id": "view-in-github",
        "colab_type": "text"
      },
      "source": [
        "<a href=\"https://colab.research.google.com/github/Data-Analytics-with-Python/individual-assignment-i-mozzimmashafique-jpg/blob/main/individual_assignment_mozzimmashafique_natasupermarket.ipynb\" target=\"_parent\"><img src=\"https://colab.research.google.com/assets/colab-badge.svg\" alt=\"Open In Colab\"/></a>"
      ]
    },
    {
      "cell_type": "markdown",
      "source": [
        "IMPORTANT: Before you start, enter your name and student number below.\n",
        "\n",
        "**Full Name: Mozzimma Shafique\n",
        "\n",
        "**Student Number:400643800"
      ],
      "metadata": {
        "id": "IbL5ndOg7fSr"
      }
    },
    {
      "cell_type": "markdown",
      "source": [
        "# Exploring Customer Data with Pandas\n",
        "\n",
        "Use the provided Nata Supermarkets dataset to answer the following questions.\n",
        "Your goal is to use Pandas operations to explore, clean, and summarize the data, and to draw a few simple insights about customer demographics and behavior."
      ],
      "metadata": {
        "id": "wX9l9nahNpbI"
      }
    },
    {
      "cell_type": "markdown",
      "source": [
        "Please complete all task requested and answer all questions explicitly and support your answers with Python codes. Insert code and text cells as you need."
      ],
      "metadata": {
        "id": "5BaaZYnXNy6n"
      }
    },
    {
      "cell_type": "markdown",
      "source": [
        "## 1. Inspecting and loading the Data (10pts)\n",
        "\n",
        "* Save the dataset in the case supplementary file (in Excel) as a csv file and upload it to Colab.\n",
        "\n",
        "* Load the dataset as a pandas data frame and display the first few rows.\n",
        "\n",
        "    * How many features (columns) and records (rows) are in the dataset?"
      ],
      "metadata": {
        "id": "8Zpp2bkoNwvT"
      }
    },
    {
      "cell_type": "code",
      "source": [
        "import pandas as pd\n",
        "\n",
        "url = \"https://raw.githubusercontent.com/mozzimmashafique-jpg/Nata-Supermarket/refs/heads/main/NATA%20Supermarket.csv\"\n",
        "df = pd.read_csv(url)\n",
        "\n",
        "print(df.head())\n",
        "\n",
        "print(\"shape of dataset:\", df.shape)\n"
      ],
      "metadata": {
        "id": "KfdKIE4tOzTJ",
        "outputId": "f3def6dc-3fb0-4f1b-8c77-b8394cb04316",
        "colab": {
          "base_uri": "https://localhost:8080/"
        }
      },
      "execution_count": null,
      "outputs": [
        {
          "output_type": "stream",
          "name": "stdout",
          "text": [
            "     ID  Year_Birth   Education Marital_Status   Income  Kidhome  Teenhome  \\\n",
            "0  5524        1957  Graduation         Single  58138.0        0         0   \n",
            "1  2174        1954  Graduation         Single  46344.0        1         1   \n",
            "2  4141        1965  Graduation       Together  71613.0        0         0   \n",
            "3  6182        1984  Graduation       Together  26646.0        1         0   \n",
            "4  5324        1981         PhD        Married  58293.0        1         0   \n",
            "\n",
            "  Dt_Customer  Recency  MntWines  ...  NumWebVisitsMonth  AcceptedCmp3  \\\n",
            "0  2012-04-09       58       635  ...                  7             0   \n",
            "1  2014-08-03       38        11  ...                  5             0   \n",
            "2  21-08-2013       26       426  ...                  4             0   \n",
            "3  2014-10-02       26        11  ...                  6             0   \n",
            "4  19-01-2014       94       173  ...                  5             0   \n",
            "\n",
            "   AcceptedCmp4  AcceptedCmp5  AcceptedCmp1  AcceptedCmp2  Complain  \\\n",
            "0             0             0             0             0         0   \n",
            "1             0             0             0             0         0   \n",
            "2             0             0             0             0         0   \n",
            "3             0             0             0             0         0   \n",
            "4             0             0             0             0         0   \n",
            "\n",
            "   Z_CostContact  Z_Revenue  Response  \n",
            "0              3         11         1  \n",
            "1              3         11         0  \n",
            "2              3         11         0  \n",
            "3              3         11         0  \n",
            "4              3         11         0  \n",
            "\n",
            "[5 rows x 29 columns]\n",
            "shape of dataset: (2240, 29)\n"
          ]
        }
      ]
    },
    {
      "cell_type": "markdown",
      "source": [
        "## 2. Data Cleaning and Missing Values (14pts)\n",
        "\n",
        "* Check for missing values across all columns.\n",
        "\n",
        "* Which columns contain missing data, and how many missing entries are there?\n",
        "\n",
        "* What strategies could you use to handle them (drop, fill, or ignore)? Apply one reasonable approach and explain your choice."
      ],
      "metadata": {
        "id": "i1oYYTjrO2Pd"
      }
    },
    {
      "cell_type": "code",
      "source": [
        "print(\"Missing values in each column:\")\n",
        "print(df.isnull().sum())\n",
        "\n"
      ],
      "metadata": {
        "id": "S1j6pz8yPDFp",
        "outputId": "d8eed5ad-029b-44c8-bb30-cb0bcbf92cd8",
        "colab": {
          "base_uri": "https://localhost:8080/"
        }
      },
      "execution_count": null,
      "outputs": [
        {
          "output_type": "stream",
          "name": "stdout",
          "text": [
            "Missing values in each column:\n",
            "ID                      0\n",
            "Year_Birth              0\n",
            "Education               0\n",
            "Marital_Status          0\n",
            "Income                 24\n",
            "Kidhome                 0\n",
            "Teenhome                0\n",
            "Dt_Customer             0\n",
            "Recency                 0\n",
            "MntWines                0\n",
            "MntFruits               0\n",
            "MntMeatProducts         0\n",
            "MntFishProducts         0\n",
            "MntSweetProducts        0\n",
            "MntGoldProds            0\n",
            "NumDealsPurchases       0\n",
            "NumWebPurchases         0\n",
            "NumCatalogPurchases     0\n",
            "NumStorePurchases       0\n",
            "NumWebVisitsMonth       0\n",
            "AcceptedCmp3            0\n",
            "AcceptedCmp4            0\n",
            "AcceptedCmp5            0\n",
            "AcceptedCmp1            0\n",
            "AcceptedCmp2            0\n",
            "Complain                0\n",
            "Z_CostContact           0\n",
            "Z_Revenue               0\n",
            "Response                0\n",
            "dtype: int64\n",
            "\n",
            "Columns with missing data:\n",
            "Index(['Income'], dtype='object')\n"
          ]
        }
      ]
    },
    {
      "cell_type": "code",
      "source": [
        "print(\"\\nColumns with missing data:\")\n",
        "print(df.columns[df.isnull().any()])"
      ],
      "metadata": {
        "id": "Rhu619BciERB",
        "outputId": "60f9c882-cc59-4d44-f402-ad36525f1743",
        "colab": {
          "base_uri": "https://localhost:8080/"
        }
      },
      "execution_count": null,
      "outputs": [
        {
          "output_type": "stream",
          "name": "stdout",
          "text": [
            "\n",
            "Columns with missing data:\n",
            "Index(['Income'], dtype='object')\n"
          ]
        }
      ]
    },
    {
      "cell_type": "code",
      "source": [
        "print(df.isnull().sum())\n",
        "df = df.fillna(0)\n"
      ],
      "metadata": {
        "id": "RGUzwstrh9vH",
        "outputId": "6cb1ad9b-1489-4ec2-e78e-8a1a2e61efc3",
        "colab": {
          "base_uri": "https://localhost:8080/"
        }
      },
      "execution_count": null,
      "outputs": [
        {
          "output_type": "stream",
          "name": "stdout",
          "text": [
            "ID                     0\n",
            "Year_Birth             0\n",
            "Education              0\n",
            "Marital_Status         0\n",
            "Income                 0\n",
            "Kidhome                0\n",
            "Teenhome               0\n",
            "Dt_Customer            0\n",
            "Recency                0\n",
            "MntWines               0\n",
            "MntFruits              0\n",
            "MntMeatProducts        0\n",
            "MntFishProducts        0\n",
            "MntSweetProducts       0\n",
            "MntGoldProds           0\n",
            "NumDealsPurchases      0\n",
            "NumWebPurchases        0\n",
            "NumCatalogPurchases    0\n",
            "NumStorePurchases      0\n",
            "NumWebVisitsMonth      0\n",
            "AcceptedCmp3           0\n",
            "AcceptedCmp4           0\n",
            "AcceptedCmp5           0\n",
            "AcceptedCmp1           0\n",
            "AcceptedCmp2           0\n",
            "Complain               0\n",
            "Z_CostContact          0\n",
            "Z_Revenue              0\n",
            "Response               0\n",
            "dtype: int64\n"
          ]
        }
      ]
    },
    {
      "cell_type": "markdown",
      "source": [
        "I checked the dataset for missing values and ended up choosing to handle it by filling all missing entries with zero. I believe this approach is simple to use and it also ensures that i dont lose any reocrds from the dataset."
      ],
      "metadata": {
        "id": "RKDR-vqiigR5"
      }
    },
    {
      "cell_type": "markdown",
      "source": [
        "## 3. Removing Constant Columns (14pts)\n",
        "\n",
        "* Identify any columns with constant values (no variance; all rows have the same value).\n",
        "\n",
        "* Drop them from your DataFrame and confirm how many columns remain."
      ],
      "metadata": {
        "id": "PGwCqmDvPGoe"
      }
    },
    {
      "cell_type": "code",
      "source": [
        "constant_cols = [col for col in df.columns if df[col].nunique() == 1]\n",
        "print(\"Constant columns:\", constant_cols)\n"
      ],
      "metadata": {
        "id": "E4_oZUmZPZIV",
        "outputId": "1644a15a-20e2-4df5-c522-9ec5cc1e3848",
        "colab": {
          "base_uri": "https://localhost:8080/"
        }
      },
      "execution_count": null,
      "outputs": [
        {
          "output_type": "stream",
          "name": "stdout",
          "text": [
            "Constant columns: ['Z_CostContact', 'Z_Revenue']\n"
          ]
        }
      ]
    },
    {
      "cell_type": "code",
      "source": [
        "df = df.drop(columns=constant_cols)\n",
        "print(\"Number of columns after removal:\", df.shape[1])"
      ],
      "metadata": {
        "id": "ZTGRVWosjggT",
        "outputId": "010719ee-f0fe-419e-cce3-8e27d04fbfa7",
        "colab": {
          "base_uri": "https://localhost:8080/"
        }
      },
      "execution_count": null,
      "outputs": [
        {
          "output_type": "stream",
          "name": "stdout",
          "text": [
            "Number of columns after removal: 27\n"
          ]
        }
      ]
    },
    {
      "cell_type": "markdown",
      "source": [
        "the columns with constant vlaues are costcontact and revenue and after dropping them from dataframe the total column remains are 27"
      ],
      "metadata": {
        "id": "eaNajVqPjs-m"
      }
    },
    {
      "cell_type": "markdown",
      "source": [
        "## 4. Add a new column (15pts)\n",
        "\n",
        "* Add a new column **Customer_Days** to store the total number of days each customer has been with the company. You may follow the steps below:\n",
        "  * use `pd.to_datetime(df[\"Dt_Customer\"])` to convert the string variable to a *date-time* variable\n",
        "\n",
        "  * use `today = datetime.today()` to find the date of today\n",
        "\n",
        "  * use `(today - df[\"Dt_Customer\"]).dt.days` to find the difference between today and the onbard date."
      ],
      "metadata": {
        "id": "iiT7AKvGTI5w"
      }
    },
    {
      "cell_type": "code",
      "source": [
        "\n",
        "from datetime import datetime\n",
        "\n",
        "df[\"Dt_Customer\"] = pd.to_datetime(df[\"Dt_Customer\"])\n",
        "\n",
        "today = datetime.today()\n",
        "\n",
        "df[\"Customer_Days\"] = (today - df[\"Dt_Customer\"]).dt.days\n",
        "\n",
        "print(df[[\"Dt_Customer\", \"Customer_Days\"]].head())"
      ],
      "metadata": {
        "id": "uas4fiH8RSOz",
        "outputId": "06a06fad-6b97-4ca8-9436-a47eeced0796",
        "colab": {
          "base_uri": "https://localhost:8080/"
        }
      },
      "execution_count": null,
      "outputs": [
        {
          "output_type": "stream",
          "name": "stdout",
          "text": [
            "  Dt_Customer  Customer_Days\n",
            "0  2012-04-09         4938.0\n",
            "1  2014-08-03         4092.0\n",
            "2         NaT            NaN\n",
            "3  2014-10-02         4032.0\n",
            "4         NaT            NaN\n"
          ]
        }
      ]
    },
    {
      "cell_type": "markdown",
      "source": [
        "## 5. Categorical Features (15 pts)\n",
        "\n",
        "* For `Education` and `Marital_Status`,\n",
        "\n",
        "  * find how many customers fall into each category\n",
        "  * create pie charts to show the percentage of each category; make sure to show the percentage numbers on the chart with 2 decimal places\n",
        "\n",
        "* What do you findings suggest about the company's target demographic?"
      ],
      "metadata": {
        "id": "npCTWRGiPeaT"
      }
    },
    {
      "cell_type": "code",
      "source": [
        "df[\"Education\"].value_counts().plot.pie(\n",
        "    autopct=\"%.2f%%\",\n",
        "    figsize=(6, 6),\n",
        "    title=\"Education Distribution\"\n",
        ")"
      ],
      "metadata": {
        "id": "GQKgCTOSRQX5",
        "outputId": "cf3e53c9-59aa-449f-8fbb-62d3c28195c1",
        "colab": {
          "base_uri": "https://localhost:8080/",
          "height": 538
        }
      },
      "execution_count": null,
      "outputs": [
        {
          "output_type": "execute_result",
          "data": {
            "text/plain": [
              "<Axes: title={'center': 'Education Distribution'}, ylabel='count'>"
            ]
          },
          "metadata": {},
          "execution_count": 42
        },
        {
          "output_type": "display_data",
          "data": {
            "text/plain": [
              "<Figure size 600x600 with 1 Axes>"
            ],
            "image/png": "[encoded data removed]"
          },
          "metadata": {}
        }
      ]
    },
    {
      "cell_type": "code",
      "source": [
        "df[\"Marital_Status\"].value_counts().plot.pie(\n",
        "    autopct=\"%.2f%%\",\n",
        "    figsize=(6, 6),\n",
        "    title=\"Marital Status Distribution\"\n",
        ")"
      ],
      "metadata": {
        "collapsed": true,
        "id": "OR4TbzFumnNe",
        "outputId": "136e2ba0-3f28-4498-c8de-4ac47645da93",
        "colab": {
          "base_uri": "https://localhost:8080/",
          "height": 538
        }
      },
      "execution_count": null,
      "outputs": [
        {
          "output_type": "execute_result",
          "data": {
            "text/plain": [
              "<Axes: title={'center': 'Marital Status Distribution'}, ylabel='count'>"
            ]
          },
          "metadata": {},
          "execution_count": 41
        },
        {
          "output_type": "display_data",
          "data": {
            "text/plain": [
              "<Figure size 600x600 with 1 Axes>"
            ],
            "image/png": "[encoded data removed]"
          },
          "metadata": {}
        }
      ]
    },
    {
      "cell_type": "markdown",
      "source": [
        "my findings suggested most customers are in the top education cateogry group and their marital status indicatss that the company main target demographics are educated and married people"
      ],
      "metadata": {
        "id": "SCMRq4NlnCwh"
      }
    },
    {
      "cell_type": "markdown",
      "source": [
        "## 6. Numeric Variables (15pts)\n",
        "\n",
        "* For `Income`, `Kidhome`, and `Teenhome`,\n",
        "  * use boxplots to visualize their distributions.\n",
        "\n",
        "* Based on these distributions, what can you say about the typical household profile of Nata's customers?"
      ],
      "metadata": {
        "id": "-PttlypqR-FN"
      }
    },
    {
      "cell_type": "code",
      "source": [
        "df[[\"Income\", \"Kidhome\", \"Teenhome\"]].boxplot(figsize=(8,6))"
      ],
      "metadata": {
        "id": "ONVn3fP_SfGa",
        "collapsed": true,
        "outputId": "61ea8dc0-a5b6-4119-e005-b2f0f69131c0",
        "colab": {
          "base_uri": "https://localhost:8080/",
          "height": 481
        }
      },
      "execution_count": null,
      "outputs": [
        {
          "output_type": "execute_result",
          "data": {
            "text/plain": [
              "<Axes: >"
            ]
          },
          "metadata": {},
          "execution_count": 43
        },
        {
          "output_type": "display_data",
          "data": {
            "text/plain": [
              "<Figure size 800x600 with 1 Axes>"
            ],
            "image/png": "[encoded data removed]"
          },
          "metadata": {}
        }
      ]
    },
    {
      "cell_type": "markdown",
      "source": [
        "the typical household profile of Nata customers  shows that most customers have lower number of children and teenagers usually 0 to 1 and majority of income distribution falls under middle range which indicates that Nata typical customers are from small household with medium income"
      ],
      "metadata": {
        "id": "wf3pMHyUnl_r"
      }
    },
    {
      "cell_type": "markdown",
      "source": [
        "## 7. Spending by Products (15pts)\n",
        "\n",
        "* Examine the spending amount columns `MntWines`,\t`MntFruits`,\t`MntMeatProducts`,\t`MntFishProducts`,\t`MntSweetProducts`,\t`MntGoldProds`, and find the product with the highest total spending amount by all customers.\n",
        "\n"
      ],
      "metadata": {
        "id": "ilLuuetiTFua"
      }
    },
    {
      "cell_type": "code",
      "source": [
        "products = [\"MntWines\", \"MntFruits\", \"MntMeatProducts\",\n",
        "            \"MntFishProducts\", \"MntSweetProducts\", \"MntGoldProds\"]\n",
        "\n",
        "total_spending = df[products].sum()\n",
        "\n",
        "max_product = total_spending.idxmax()\n",
        "\n",
        "max_spending = total_spending.max()\n",
        "\n",
        "print(\"Product with the highest total spending:\", max_product)\n",
        "print(\"Total spending amount:\", max_spending)"
      ],
      "metadata": {
        "id": "Sjo1pvxUWVqh",
        "outputId": "9f81d38b-25c2-49cf-e57b-6cf7f33159de",
        "colab": {
          "base_uri": "https://localhost:8080/"
        }
      },
      "execution_count": null,
      "outputs": [
        {
          "output_type": "stream",
          "name": "stdout",
          "text": [
            "Product with the highest total spending: MntWines\n",
            "Total spending amount: 680816\n"
          ]
        }
      ]
    },
    {
      "cell_type": "markdown",
      "source": [
        "## 8. Use of Gen. AI (2pts)\n",
        "\n",
        "Use of Generative AI is allowed. Briefly describe if and how you have used Gen. AI tools in this assignment."
      ],
      "metadata": {
        "id": "aMAKfon36poQ"
      }
    },
    {
      "cell_type": "markdown",
      "source": [
        "i used the AI tool to supporet my understanding of how to write the python code and whenever there was error, i used AI tool to help me understand where im going wrong as it gave me clarity but all the coding decisins and implementation is done by me"
      ],
      "metadata": {
        "id": "wlgovwZ668r-"
      }
    },
    {
      "cell_type": "markdown",
      "source": [],
      "metadata": {
        "id": "PX_5pVXo_uHF"
      }
    }
  ]
}
